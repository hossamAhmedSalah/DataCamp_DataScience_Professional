{
  "cells": [
    {
      "cell_type": "markdown",
      "metadata": {
        "id": "view-in-github",
        "colab_type": "text"
      },
      "source": [
        "<a href=\"https://colab.research.google.com/github/hossamAhmedSalah/DataCamp_DataScience_Professional/blob/main/Python_Basics_task.ipynb\" target=\"_parent\"><img src=\"https://colab.research.google.com/assets/colab-badge.svg\" alt=\"Open In Colab\"/></a>"
      ]
    },
    {
      "cell_type": "markdown",
      "metadata": {
        "id": "KkrFDu39uNi9"
      },
      "source": [
        "## Variables"
      ]
    },
    {
      "cell_type": "code",
      "execution_count": null,
      "metadata": {
        "id": "P7Jwbi1NuNi_"
      },
      "outputs": [],
      "source": [
        "x1 = 4\n",
        "y1 = 6\n",
        "\n",
        "x2 = \"Hello, \"\n",
        "y2 = \"world\"\n",
        "\n",
        "# make a new variable of the sum of x1 and y2\n",
        "z1 = # write your answer here\n",
        "\n",
        "# make a new variable that contains \"Hello, world\" using x2 , y2\n",
        "z2 = # write your answer here\n",
        "\n",
        "#print z1 , z2 using single print command\n",
        "#write your answe here"
      ]
    },
    {
      "cell_type": "code",
      "execution_count": null,
      "metadata": {
        "id": "hmtFkreJuNjA"
      },
      "outputs": [],
      "source": [
        "# take a numerical input from the user and print from 1 to the number the user entered\n",
        "\n",
        "# taking numerical input from the user\n",
        "input = # write your answer here\n",
        "\n",
        "# making the loop to print the numbers from 1 to the input\n",
        "# write your answer here"
      ]
    },
    {
      "cell_type": "code",
      "execution_count": null,
      "metadata": {
        "id": "e0YJJFzjuNjB"
      },
      "outputs": [],
      "source": [
        "students_grades1 = [50,55,90]\n",
        "students_grades2 = [60,70,80]\n",
        "\n",
        "#concate students_grades1 and students_grades2 in 1 list (students_grades)\n",
        "students_grades = # write your answer here\n",
        "\n",
        "\n",
        "# from students grades print [50, 90, 70] using slicing and step size\n",
        "\n",
        "# write your answer here\n",
        "\n",
        "\n",
        "# from students grades print [60, 50] using slicing and step size\n",
        "\n",
        "# write your answer here\n"
      ]
    },
    {
      "cell_type": "code",
      "execution_count": null,
      "metadata": {
        "id": "Xd-a-y3juNjB"
      },
      "outputs": [],
      "source": [
        "my_string = \"!dlroW ,olleH\"\n",
        "\n",
        "# print my_string in reverse\n",
        "\n",
        "# write your answer here"
      ]
    },
    {
      "cell_type": "code",
      "execution_count": null,
      "metadata": {
        "id": "kKR3QCuCuNjB"
      },
      "outputs": [],
      "source": [
        "'''\n",
        "Create a list using list comprehension that starts at 10 and increments by 10 for each subsequent element, up to 100.\n",
        "--output needed:[10, 20, 30, 40, 50, ..., 100]\n",
        "'''\n",
        "\n",
        "# write your answer here"
      ]
    },
    {
      "cell_type": "markdown",
      "metadata": {
        "id": "y5tadIPZuNjC"
      },
      "source": [
        "Q: what is the difference between lists and tuples?\n",
        "<br>\n",
        "A:"
      ]
    },
    {
      "cell_type": "code",
      "execution_count": null,
      "metadata": {
        "id": "BwYyr6uDuNjC"
      },
      "outputs": [],
      "source": [
        "store_products1 = {\"Milk\", \"Biscuits\", \"Cheese\"}\n",
        "store_products2 = {\"Milk\", \"Biscuits\", \"Coffe\"}\n",
        "\n",
        "# combine all the store products in 1 set using set operations and print it\n",
        "\n",
        "# write your answer here\n",
        "\n",
        "# print the common products of the 2 stores using set operations\n",
        "\n",
        "# write your answer here\n",
        "\n",
        "# what product does store 2 have and store 1 doesn't have?\n",
        "\n",
        "# write your answer here (use set operations)"
      ]
    },
    {
      "cell_type": "code",
      "execution_count": null,
      "metadata": {
        "id": "82MGDj6XuNjC"
      },
      "outputs": [],
      "source": [
        "student = {\n",
        "\n",
        "    \"committee\" : \"Machine learning\"\n",
        "}\n",
        "\n",
        "# add your \"name\" and \"university\" to the student dictionary\n",
        "\n",
        "# write your answer here\n",
        "\n",
        "# print key, value pairs from student dictionary using for loop\n",
        "\n",
        "\"\"\"\n",
        "output needed:\n",
        "committe: Machine learning\n",
        "name: (your name)\n",
        "university: (your university)\n",
        "\"\"\"\n",
        "\n",
        "# write your answer here\n",
        "\n",
        "\n",
        "# convert student dictionary to a dataframe using pandas\n",
        "\n",
        "# write your answer here"
      ]
    },
    {
      "cell_type": "markdown",
      "metadata": {
        "id": "etDX1mDluNjD"
      },
      "source": [
        "## Operators"
      ]
    },
    {
      "cell_type": "code",
      "execution_count": null,
      "metadata": {
        "id": "L_RBH9wLuNjD"
      },
      "outputs": [],
      "source": [
        "num1 = 15\n",
        "num2 = 4\n",
        "\n",
        "# Perform floor division of num1 by num2 and print the result\n",
        "\n",
        "# write your answer here\n",
        "\n",
        "# Find the remainder when num1 is divided by num2 and print it\n",
        "\n",
        "# write your answer here\n"
      ]
    },
    {
      "cell_type": "code",
      "execution_count": null,
      "metadata": {
        "id": "F59usEPguNjD"
      },
      "outputs": [],
      "source": [
        "student_grade1 = 45\n",
        "student_grade2 = 90\n",
        "\n",
        "'''\n",
        "check if both student 1, student 2 passed the exam\n",
        "-- where student passes the exam if his grade is more than 50\n",
        "solve it using logical operators\n",
        "'''\n",
        "\n",
        "# write your answer here\n",
        "\n",
        "'''\n",
        "check if atleast 1 student from student 1, student 2 passed the exam\n",
        "solve it using logical operators\n",
        "'''\n",
        "\n",
        "# write your answer here"
      ]
    },
    {
      "cell_type": "code",
      "execution_count": null,
      "metadata": {
        "id": "dZeLmwCXuNjD"
      },
      "outputs": [],
      "source": [
        "num1 = 20\n",
        "num2 = 20.0\n",
        "num3 = num1\n",
        "\n",
        "# check if num1 and num2 refers to the same object\n",
        "\n",
        "# write your answer here\n",
        "\n",
        "# check if num3 and num2 have the same value"
      ]
    },
    {
      "cell_type": "markdown",
      "metadata": {
        "id": "KvgA2GYBuNjD"
      },
      "source": [
        "## Loops"
      ]
    },
    {
      "cell_type": "code",
      "execution_count": null,
      "metadata": {
        "id": "5sjuxmrEuNjE"
      },
      "outputs": [],
      "source": [
        "# print the even numbers from 1 to 20 using for loop\n",
        "\n",
        "# write your answer here (using range only)"
      ]
    },
    {
      "cell_type": "code",
      "execution_count": null,
      "metadata": {
        "id": "kEccx2TduNjE"
      },
      "outputs": [],
      "source": [
        "grocery_list = [\"Bread\",\"Burger\",\"Ketchup\"]\n",
        "\n",
        "'''\n",
        "print the list elements along with their indexes\n",
        "output needed:\n",
        "product (index) --> (element)\n",
        "product (index) --> (element)\n",
        "product (index) --> (element)\n",
        "'''\n",
        "\n",
        "# write your answer here (use for loop)"
      ]
    },
    {
      "cell_type": "markdown",
      "metadata": {
        "id": "mVHw4xabuNjE"
      },
      "source": [
        "## Functions and Lambda Functions"
      ]
    },
    {
      "cell_type": "code",
      "execution_count": null,
      "metadata": {
        "id": "4DRlflOXuNjE"
      },
      "outputs": [],
      "source": [
        "# write a function that takes unknown number of integers\n",
        "\n",
        "# write your answer here\n",
        "\n",
        "    # write a lambda function that adds 10 to the number\n",
        "    l1 = # write your answer here\n",
        "\n",
        "    # write a lambda function that adds 30 to the number\n",
        "    l2 = # write your answer here\n",
        "\n",
        "    # make a for loop that iterates over the passed integer to the function\n",
        "\n",
        "    # write your answer here\n",
        "\n",
        "        # check if the number is even\n",
        "\n",
        "        # write your answer here\n",
        "\n",
        "            # use l1 to add 10 to the number and print it\n",
        "\n",
        "            # write your answer here\n",
        "\n",
        "        # check if the number is odd (not even)\n",
        "\n",
        "        # write your answer here\n",
        "\n",
        "            # use l2 to add 30 to the number and print it\n",
        "\n",
        "            # write your answer here\n",
        "\n",
        "numbers = [1,2,3,4,5,6,7,8,9,10]\n",
        "\n",
        "# pass numbers to the function you made\n",
        "\n",
        "# write your answer here"
      ]
    }
  ],
  "metadata": {
    "kernelspec": {
      "display_name": "Python 3",
      "language": "python",
      "name": "python3"
    },
    "language_info": {
      "codemirror_mode": {
        "name": "ipython",
        "version": 3
      },
      "file_extension": ".py",
      "mimetype": "text/x-python",
      "name": "python",
      "nbconvert_exporter": "python",
      "pygments_lexer": "ipython3",
      "version": "3.11.0"
    },
    "colab": {
      "provenance": [],
      "include_colab_link": true
    }
  },
  "nbformat": 4,
  "nbformat_minor": 0
}